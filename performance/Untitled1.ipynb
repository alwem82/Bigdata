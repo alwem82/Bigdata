{
 "cells": [
  {
   "cell_type": "code",
   "execution_count": null,
   "id": "fc6fe7a6-9ea1-46e2-8b32-c1346f4290cd",
   "metadata": {},
   "outputs": [],
   "source": []
  }
 ],
 "metadata": {
  "kernelspec": {
   "display_name": "",
   "name": ""
  },
  "language_info": {
   "name": ""
  }
 },
 "nbformat": 4,
 "nbformat_minor": 5
}
