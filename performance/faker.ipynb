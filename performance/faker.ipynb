{
 "cells": [
  {
   "cell_type": "code",
   "execution_count": 7,
   "id": "91903c0b-5380-45d3-ba14-5feb59167c8c",
   "metadata": {},
   "outputs": [],
   "source": [
    "import pandas as pd\n",
    "import random\n",
    "from faker import Faker\n",
    "from random import randrange\n",
    "from datetime import datetime\n",
    "\n",
    "nr_of_customers = 10000000\n",
    "\n",
    "fake = Faker('de_DE')\n",
    "\n",
    "customers = []\n",
    "\n",
    "for customers_id in range(nr_of_customers):\n",
    "\n",
    "    # Create transaction date \n",
    "    #d1 = datetime.strptime(f'1/1/2021', '%m/%d/%Y')\n",
    "    #d2 = datetime.strptime(f'8/10/2021', '%m/%d/%Y')\n",
    "    #transaction_date = fake.date_between(d1, d2)\n",
    "    transaction_date = datetime.strptime(f'1/31/2021', '%m/%d/%Y')\n",
    "\n",
    "    #create customer's name\n",
    "    name = fake.name()\n",
    "\n",
    "    # Create gender\n",
    "    gender = random.choice([\"M\", \"F\"])\n",
    "\n",
    "    # Create email \n",
    "    email = fake.ascii_email()\n",
    "\n",
    "    #Create city\n",
    "    city = fake.city()\n",
    "    \n",
    "    #Create city\n",
    "    city2 = fake.city()\n",
    "    \n",
    "    #Create city\n",
    "    city3 = fake.city()\n",
    "    \n",
    "    #Create city\n",
    "    city4 = fake.city()\n",
    "\n",
    "    #create product ID in 8-digit barcode\n",
    "    product_ID = fake.ean(length=8)\n",
    "    \n",
    "    #create amount spent\n",
    "    amount_spent = fake.pyfloat(right_digits=2, positive=True, min_value=1, max_value=100)\n",
    "\n",
    "    customers.append([transaction_date, name, gender, email, city, city2,city3,city4, product_ID, amount_spent])\n",
    "\n",
    "customers_df = pd.DataFrame(customers, columns=['Transaction_date','Name', 'Gender','Email', 'City', 'City2', 'City3', 'City4','Product_id', 'Amount_spent']) \n",
    "                \n",
    "pd.pandas.set_option('display.max_columns', None)\n",
    "customers_df.to_parquet('/Users/junghoij/Desktop/data/ABP/test.parquet')"
   ]
  },
  {
   "cell_type": "code",
   "execution_count": 3,
   "id": "8b9955d9-e770-46b8-af75-0eab17577a9f",
   "metadata": {},
   "outputs": [
    {
     "name": "stdout",
     "output_type": "stream",
     "text": [
      "Requirement already satisfied: Faker in /Library/Frameworks/Python.framework/Versions/3.9/lib/python3.9/site-packages (8.12.1)\n",
      "Requirement already satisfied: text-unidecode==1.3 in /Library/Frameworks/Python.framework/Versions/3.9/lib/python3.9/site-packages (from Faker) (1.3)\n",
      "Requirement already satisfied: python-dateutil>=2.4 in /Library/Frameworks/Python.framework/Versions/3.9/lib/python3.9/site-packages (from Faker) (2.8.2)\n",
      "Requirement already satisfied: six>=1.5 in /Library/Frameworks/Python.framework/Versions/3.9/lib/python3.9/site-packages (from python-dateutil>=2.4->Faker) (1.16.0)\n",
      "Note: you may need to restart the kernel to use updated packages.\n"
     ]
    }
   ],
   "source": [
    "pip install Faker"
   ]
  },
  {
   "cell_type": "code",
   "execution_count": 4,
   "id": "974c1622-3496-418d-b52f-3eeff4043bfb",
   "metadata": {},
   "outputs": [
    {
     "name": "stdout",
     "output_type": "stream",
     "text": [
      "Collecting pyarrow\n",
      "  Downloading pyarrow-5.0.0-cp39-cp39-macosx_10_13_x86_64.whl (17.6 MB)\n",
      "\u001b[K     |████████████████████████████████| 17.6 MB 752 kB/s eta 0:00:01\n",
      "\u001b[?25hRequirement already satisfied: numpy>=1.16.6 in /Library/Frameworks/Python.framework/Versions/3.9/lib/python3.9/site-packages (from pyarrow) (1.21.2)\n",
      "Installing collected packages: pyarrow\n",
      "Successfully installed pyarrow-5.0.0\n",
      "Note: you may need to restart the kernel to use updated packages.\n"
     ]
    }
   ],
   "source": [
    "pip install pyarrow"
   ]
  },
  {
   "cell_type": "code",
   "execution_count": 1,
   "id": "7f327198-4d19-48fb-8785-8274ae9d620a",
   "metadata": {},
   "outputs": [
    {
     "name": "stdout",
     "output_type": "stream",
     "text": [
      "Collecting boto3\n",
      "  Downloading boto3-1.18.37-py3-none-any.whl (131 kB)\n",
      "\u001b[K     |████████████████████████████████| 131 kB 401 kB/s eta 0:00:01\n",
      "\u001b[?25hCollecting s3transfer<0.6.0,>=0.5.0\n",
      "  Downloading s3transfer-0.5.0-py3-none-any.whl (79 kB)\n",
      "\u001b[K     |████████████████████████████████| 79 kB 1.8 MB/s eta 0:00:01\n",
      "\u001b[?25hCollecting jmespath<1.0.0,>=0.7.1\n",
      "  Downloading jmespath-0.10.0-py2.py3-none-any.whl (24 kB)\n",
      "Collecting botocore<1.22.0,>=1.21.37\n",
      "  Downloading botocore-1.21.37-py3-none-any.whl (7.9 MB)\n",
      "\u001b[K     |████████████████████████████████| 7.9 MB 4.9 MB/s eta 0:00:01\n",
      "\u001b[?25hRequirement already satisfied: python-dateutil<3.0.0,>=2.1 in /Library/Frameworks/Python.framework/Versions/3.9/lib/python3.9/site-packages (from botocore<1.22.0,>=1.21.37->boto3) (2.8.2)\n",
      "Requirement already satisfied: urllib3<1.27,>=1.25.4 in /Library/Frameworks/Python.framework/Versions/3.9/lib/python3.9/site-packages (from botocore<1.22.0,>=1.21.37->boto3) (1.26.6)\n",
      "Requirement already satisfied: six>=1.5 in /Library/Frameworks/Python.framework/Versions/3.9/lib/python3.9/site-packages (from python-dateutil<3.0.0,>=2.1->botocore<1.22.0,>=1.21.37->boto3) (1.16.0)\n",
      "Installing collected packages: jmespath, botocore, s3transfer, boto3\n",
      "Successfully installed boto3-1.18.37 botocore-1.21.37 jmespath-0.10.0 s3transfer-0.5.0\n",
      "Note: you may need to restart the kernel to use updated packages.\n"
     ]
    }
   ],
   "source": [
    "pip install boto3"
   ]
  },
  {
   "cell_type": "code",
   "execution_count": null,
   "id": "9b0619e2-de7b-402a-8283-ecf0bb1f48ef",
   "metadata": {},
   "outputs": [],
   "source": []
  }
 ],
 "metadata": {
  "kernelspec": {
   "display_name": "Python 3 (ipykernel)",
   "language": "python",
   "name": "python3"
  },
  "language_info": {
   "codemirror_mode": {
    "name": "ipython",
    "version": 3
   },
   "file_extension": ".py",
   "mimetype": "text/x-python",
   "name": "python",
   "nbconvert_exporter": "python",
   "pygments_lexer": "ipython3",
   "version": "3.9.7"
  }
 },
 "nbformat": 4,
 "nbformat_minor": 5
}
