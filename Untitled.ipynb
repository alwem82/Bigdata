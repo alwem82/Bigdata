{
 "cells": [
  {
   "cell_type": "code",
   "execution_count": null,
   "id": "ec18ff59-9d05-4d5e-8d62-712055550c06",
   "metadata": {},
   "outputs": [],
   "source": [
    "import boto3, sys\n",
    "\n",
    "ep_name = 'application-train2-best-model'\n",
    "sm_rt = boto3.Session().client('runtime.sagemaker')\n",
    "\n",
    "tn=tp=fn=fp=count=0\n",
    "\n",
    "with open('bank-additional/bank-additional-full.csv') as f:\n",
    "    lines = f.readlines()\n",
    "    for l in lines[1:2000]:   # Skip header\n",
    "        l = l.split(',')      # Split CSV line into features\n",
    "        label = l[-1]         # Store 'yes'/'no' label\n",
    "        l = l[:-1]            # Remove label\n",
    "        l = ','.join(l)       # Rebuild CSV line without label\n",
    "                \n",
    "        response = sm_rt.invoke_endpoint(EndpointName=ep_name, \n",
    "                                         ContentType='text/csv',       \n",
    "                                         Accept='text/csv', Body=l)\n",
    "\n",
    "        response = response['Body'].read().decode(\"utf-8\")\n",
    "        #print (\"label %s response %s\" %(label,response))\n",
    "\n",
    "        if 'yes' in label:\n",
    "            # Sample is positive\n",
    "            if 'yes' in response:\n",
    "                # True positive\n",
    "                tp=tp+1\n",
    "            else:\n",
    "                # False negative\n",
    "                fn=fn+1\n",
    "        else:\n",
    "            # Sample is negative\n",
    "            if 'no' in response:\n",
    "                # True negative\n",
    "                tn=tn+1\n",
    "            else:\n",
    "                # False positive\n",
    "                fp=fp+1\n",
    "        count = count+1\n",
    "        if (count % 100 == 0):   \n",
    "            sys.stdout.write(str(count)+' ')\n",
    "            \n",
    "print (\"Done\")\n",
    "\n",
    "accuracy  = (tp+tn)/(tp+tn+fp+fn)\n",
    "precision = tp/(tp+fp)\n",
    "recall    = tp/(tp+fn)\n",
    "f1        = (2*precision*recall)/(precision+recall)\n",
    "\n",
    "print (\"%.4f %.4f %.4f %.4f\" % (accuracy, precision, recall, f1))"
   ]
  }
 ],
 "metadata": {
  "kernelspec": {
   "display_name": "Python 3 (ipykernel)",
   "language": "python",
   "name": "python3"
  },
  "language_info": {
   "codemirror_mode": {
    "name": "ipython",
    "version": 3
   },
   "file_extension": ".py",
   "mimetype": "text/x-python",
   "name": "python",
   "nbconvert_exporter": "python",
   "pygments_lexer": "ipython3",
   "version": "3.9.7"
  }
 },
 "nbformat": 4,
 "nbformat_minor": 5
}
