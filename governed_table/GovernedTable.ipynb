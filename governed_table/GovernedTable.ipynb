{
 "cells": [
  {
   "cell_type": "code",
   "execution_count": 1,
   "id": "fcae2ba6",
   "metadata": {},
   "outputs": [],
   "source": [
    "#pip install awswrangler"
   ]
  },
  {
   "cell_type": "code",
   "execution_count": 2,
   "id": "875d2b43",
   "metadata": {},
   "outputs": [],
   "source": [
    "import awswrangler as wr"
   ]
  },
  {
   "cell_type": "markdown",
   "id": "58c3b40b",
   "metadata": {},
   "source": [
    "## Create Governed Table(metadata only)"
   ]
  },
  {
   "cell_type": "code",
   "execution_count": 3,
   "id": "a57956db-22bd-432d-bda3-124443895897",
   "metadata": {},
   "outputs": [],
   "source": [
    "#before executing belwo, please complete to set lake location/permission setting in LakeFormation Console"
   ]
  },
  {
   "cell_type": "code",
   "execution_count": 4,
   "id": "c44cf2a4",
   "metadata": {},
   "outputs": [],
   "source": [
    "# Governed Table를 Glue Console이 아닌 Wrangle create_parquet_table library로 생성함\n",
    "# Governed Table의 경우 table_type에 'GOVERNED'로 명시 필요\n",
    "wr.catalog.create_parquet_table(\n",
    "    database='governed_demo',\n",
    "    table='governed_demo_table',\n",
    "    path='s3://governedtable-example/data/',\n",
    "    columns_types={'registration_dttm':'Timestamp',\n",
    "                  'id':'int',\n",
    "                  'first_name':'String',\n",
    "                  'last_name':'String',\n",
    "                  'email':'String',\n",
    "                  'gender':'String',\n",
    "                  'ip_address':'String',\n",
    "                  'cc':'String',\n",
    "                  'country':'String',\n",
    "                  'birthdate':'String',\n",
    "                  'salary':'double',\n",
    "                  'title':'string',\n",
    "                  'comment':'string'},\n",
    "    compression='snappy',\n",
    "    description='governed_table example',\n",
    "    table_type='GOVERNED'\n",
    ")"
   ]
  },
  {
   "cell_type": "markdown",
   "id": "b24eaad2",
   "metadata": {},
   "source": [
    "## Read existing csv data from S3 into dataframe"
   ]
  },
  {
   "cell_type": "code",
   "execution_count": 5,
   "id": "9d7ce120",
   "metadata": {},
   "outputs": [
    {
     "data": {
      "text/html": [
       "<div>\n",
       "<style scoped>\n",
       "    .dataframe tbody tr th:only-of-type {\n",
       "        vertical-align: middle;\n",
       "    }\n",
       "\n",
       "    .dataframe tbody tr th {\n",
       "        vertical-align: top;\n",
       "    }\n",
       "\n",
       "    .dataframe thead th {\n",
       "        text-align: right;\n",
       "    }\n",
       "</style>\n",
       "<table border=\"1\" class=\"dataframe\">\n",
       "  <thead>\n",
       "    <tr style=\"text-align: right;\">\n",
       "      <th></th>\n",
       "      <th>registration_dttm</th>\n",
       "      <th>id</th>\n",
       "      <th>first_name</th>\n",
       "      <th>last_name</th>\n",
       "      <th>email</th>\n",
       "      <th>gender</th>\n",
       "      <th>ip_address</th>\n",
       "      <th>cc</th>\n",
       "      <th>country</th>\n",
       "      <th>birthdate</th>\n",
       "      <th>salary</th>\n",
       "      <th>title</th>\n",
       "      <th>comments</th>\n",
       "    </tr>\n",
       "  </thead>\n",
       "  <tbody>\n",
       "    <tr>\n",
       "      <th>0</th>\n",
       "      <td>2016-02-03 07:55:29</td>\n",
       "      <td>1</td>\n",
       "      <td>Amanda</td>\n",
       "      <td>Jordan</td>\n",
       "      <td>ajordan0@com.com</td>\n",
       "      <td>Female</td>\n",
       "      <td>1.197.201.2</td>\n",
       "      <td>6759521864920116</td>\n",
       "      <td>Indonesia</td>\n",
       "      <td>3/8/1971</td>\n",
       "      <td>49756.53</td>\n",
       "      <td>Internal Auditor</td>\n",
       "      <td>1E+02</td>\n",
       "    </tr>\n",
       "    <tr>\n",
       "      <th>1</th>\n",
       "      <td>2016-02-03 17:04:03</td>\n",
       "      <td>2</td>\n",
       "      <td>Albert</td>\n",
       "      <td>Freeman</td>\n",
       "      <td>afreeman1@is.gd</td>\n",
       "      <td>Male</td>\n",
       "      <td>218.111.175.34</td>\n",
       "      <td></td>\n",
       "      <td>Canada</td>\n",
       "      <td>1/16/1968</td>\n",
       "      <td>150280.17</td>\n",
       "      <td>Accountant IV</td>\n",
       "      <td></td>\n",
       "    </tr>\n",
       "    <tr>\n",
       "      <th>2</th>\n",
       "      <td>2016-02-03 01:09:31</td>\n",
       "      <td>3</td>\n",
       "      <td>Evelyn</td>\n",
       "      <td>Morgan</td>\n",
       "      <td>emorgan2@altervista.org</td>\n",
       "      <td>Female</td>\n",
       "      <td>7.161.136.94</td>\n",
       "      <td>6767119071901597</td>\n",
       "      <td>Russia</td>\n",
       "      <td>2/1/1960</td>\n",
       "      <td>144972.51</td>\n",
       "      <td>Structural Engineer</td>\n",
       "      <td></td>\n",
       "    </tr>\n",
       "    <tr>\n",
       "      <th>3</th>\n",
       "      <td>2016-02-03 00:36:21</td>\n",
       "      <td>4</td>\n",
       "      <td>Denise</td>\n",
       "      <td>Riley</td>\n",
       "      <td>driley3@gmpg.org</td>\n",
       "      <td>Female</td>\n",
       "      <td>140.35.109.83</td>\n",
       "      <td>3576031598965625</td>\n",
       "      <td>China</td>\n",
       "      <td>4/8/1997</td>\n",
       "      <td>90263.05</td>\n",
       "      <td>Senior Cost Accountant</td>\n",
       "      <td></td>\n",
       "    </tr>\n",
       "    <tr>\n",
       "      <th>4</th>\n",
       "      <td>2016-02-03 05:05:31</td>\n",
       "      <td>5</td>\n",
       "      <td>Carlos</td>\n",
       "      <td>Burns</td>\n",
       "      <td>cburns4@miitbeian.gov.cn</td>\n",
       "      <td></td>\n",
       "      <td>169.113.235.40</td>\n",
       "      <td>5602256255204850</td>\n",
       "      <td>South Africa</td>\n",
       "      <td></td>\n",
       "      <td>NaN</td>\n",
       "      <td></td>\n",
       "      <td></td>\n",
       "    </tr>\n",
       "  </tbody>\n",
       "</table>\n",
       "</div>"
      ],
      "text/plain": [
       "    registration_dttm  id first_name last_name                     email  \\\n",
       "0 2016-02-03 07:55:29   1     Amanda    Jordan          ajordan0@com.com   \n",
       "1 2016-02-03 17:04:03   2     Albert   Freeman           afreeman1@is.gd   \n",
       "2 2016-02-03 01:09:31   3     Evelyn    Morgan   emorgan2@altervista.org   \n",
       "3 2016-02-03 00:36:21   4     Denise     Riley          driley3@gmpg.org   \n",
       "4 2016-02-03 05:05:31   5     Carlos     Burns  cburns4@miitbeian.gov.cn   \n",
       "\n",
       "   gender      ip_address                cc       country  birthdate  \\\n",
       "0  Female     1.197.201.2  6759521864920116     Indonesia   3/8/1971   \n",
       "1    Male  218.111.175.34                          Canada  1/16/1968   \n",
       "2  Female    7.161.136.94  6767119071901597        Russia   2/1/1960   \n",
       "3  Female   140.35.109.83  3576031598965625         China   4/8/1997   \n",
       "4          169.113.235.40  5602256255204850  South Africa              \n",
       "\n",
       "      salary                   title comments  \n",
       "0   49756.53        Internal Auditor    1E+02  \n",
       "1  150280.17           Accountant IV           \n",
       "2  144972.51     Structural Engineer           \n",
       "3   90263.05  Senior Cost Accountant           \n",
       "4        NaN                                   "
      ]
     },
     "execution_count": 5,
     "metadata": {},
     "output_type": "execute_result"
    }
   ],
   "source": [
    "df_raw=wr.s3.read_parquet(r's3://governedtable-example/raw/')\n",
    "df_raw.head()"
   ]
  },
  {
   "cell_type": "markdown",
   "id": "87d6fd61",
   "metadata": {},
   "source": [
    "## Filter select records to insert into governed table"
   ]
  },
  {
   "cell_type": "code",
   "execution_count": 6,
   "id": "80812637",
   "metadata": {},
   "outputs": [
    {
     "data": {
      "text/html": [
       "<div>\n",
       "<style scoped>\n",
       "    .dataframe tbody tr th:only-of-type {\n",
       "        vertical-align: middle;\n",
       "    }\n",
       "\n",
       "    .dataframe tbody tr th {\n",
       "        vertical-align: top;\n",
       "    }\n",
       "\n",
       "    .dataframe thead th {\n",
       "        text-align: right;\n",
       "    }\n",
       "</style>\n",
       "<table border=\"1\" class=\"dataframe\">\n",
       "  <thead>\n",
       "    <tr style=\"text-align: right;\">\n",
       "      <th></th>\n",
       "      <th>registration_dttm</th>\n",
       "      <th>id</th>\n",
       "      <th>first_name</th>\n",
       "      <th>last_name</th>\n",
       "      <th>email</th>\n",
       "      <th>gender</th>\n",
       "      <th>ip_address</th>\n",
       "      <th>cc</th>\n",
       "      <th>country</th>\n",
       "      <th>birthdate</th>\n",
       "      <th>salary</th>\n",
       "      <th>title</th>\n",
       "      <th>comments</th>\n",
       "    </tr>\n",
       "  </thead>\n",
       "  <tbody>\n",
       "    <tr>\n",
       "      <th>0</th>\n",
       "      <td>2016-02-03 07:55:29</td>\n",
       "      <td>1</td>\n",
       "      <td>Amanda</td>\n",
       "      <td>Jordan</td>\n",
       "      <td>ajordan0@com.com</td>\n",
       "      <td>Female</td>\n",
       "      <td>1.197.201.2</td>\n",
       "      <td>6759521864920116</td>\n",
       "      <td>Indonesia</td>\n",
       "      <td>3/8/1971</td>\n",
       "      <td>49756.53</td>\n",
       "      <td>Internal Auditor</td>\n",
       "      <td>1E+02</td>\n",
       "    </tr>\n",
       "    <tr>\n",
       "      <th>2</th>\n",
       "      <td>2016-02-03 01:09:31</td>\n",
       "      <td>3</td>\n",
       "      <td>Evelyn</td>\n",
       "      <td>Morgan</td>\n",
       "      <td>emorgan2@altervista.org</td>\n",
       "      <td>Female</td>\n",
       "      <td>7.161.136.94</td>\n",
       "      <td>6767119071901597</td>\n",
       "      <td>Russia</td>\n",
       "      <td>2/1/1960</td>\n",
       "      <td>144972.51</td>\n",
       "      <td>Structural Engineer</td>\n",
       "      <td></td>\n",
       "    </tr>\n",
       "    <tr>\n",
       "      <th>3</th>\n",
       "      <td>2016-02-03 00:36:21</td>\n",
       "      <td>4</td>\n",
       "      <td>Denise</td>\n",
       "      <td>Riley</td>\n",
       "      <td>driley3@gmpg.org</td>\n",
       "      <td>Female</td>\n",
       "      <td>140.35.109.83</td>\n",
       "      <td>3576031598965625</td>\n",
       "      <td>China</td>\n",
       "      <td>4/8/1997</td>\n",
       "      <td>90263.05</td>\n",
       "      <td>Senior Cost Accountant</td>\n",
       "      <td></td>\n",
       "    </tr>\n",
       "    <tr>\n",
       "      <th>5</th>\n",
       "      <td>2016-02-03 07:22:34</td>\n",
       "      <td>6</td>\n",
       "      <td>Kathryn</td>\n",
       "      <td>White</td>\n",
       "      <td>kwhite5@google.com</td>\n",
       "      <td>Female</td>\n",
       "      <td>195.131.81.179</td>\n",
       "      <td>3583136326049310</td>\n",
       "      <td>Indonesia</td>\n",
       "      <td>2/25/1983</td>\n",
       "      <td>69227.11</td>\n",
       "      <td>Account Executive</td>\n",
       "      <td></td>\n",
       "    </tr>\n",
       "    <tr>\n",
       "      <th>9</th>\n",
       "      <td>2016-02-03 18:29:47</td>\n",
       "      <td>10</td>\n",
       "      <td>Emily</td>\n",
       "      <td>Stewart</td>\n",
       "      <td>estewart9@opensource.org</td>\n",
       "      <td>Female</td>\n",
       "      <td>143.28.251.245</td>\n",
       "      <td>3574254110301671</td>\n",
       "      <td>Nigeria</td>\n",
       "      <td>1/28/1997</td>\n",
       "      <td>27234.28</td>\n",
       "      <td>Health Coach IV</td>\n",
       "      <td></td>\n",
       "    </tr>\n",
       "  </tbody>\n",
       "</table>\n",
       "</div>"
      ],
      "text/plain": [
       "    registration_dttm  id first_name last_name                     email  \\\n",
       "0 2016-02-03 07:55:29   1     Amanda    Jordan          ajordan0@com.com   \n",
       "2 2016-02-03 01:09:31   3     Evelyn    Morgan   emorgan2@altervista.org   \n",
       "3 2016-02-03 00:36:21   4     Denise     Riley          driley3@gmpg.org   \n",
       "5 2016-02-03 07:22:34   6    Kathryn     White        kwhite5@google.com   \n",
       "9 2016-02-03 18:29:47  10      Emily   Stewart  estewart9@opensource.org   \n",
       "\n",
       "   gender      ip_address                cc    country  birthdate     salary  \\\n",
       "0  Female     1.197.201.2  6759521864920116  Indonesia   3/8/1971   49756.53   \n",
       "2  Female    7.161.136.94  6767119071901597     Russia   2/1/1960  144972.51   \n",
       "3  Female   140.35.109.83  3576031598965625      China   4/8/1997   90263.05   \n",
       "5  Female  195.131.81.179  3583136326049310  Indonesia  2/25/1983   69227.11   \n",
       "9  Female  143.28.251.245  3574254110301671    Nigeria  1/28/1997   27234.28   \n",
       "\n",
       "                    title comments  \n",
       "0        Internal Auditor    1E+02  \n",
       "2     Structural Engineer           \n",
       "3  Senior Cost Accountant           \n",
       "5       Account Executive           \n",
       "9         Health Coach IV           "
      ]
     },
     "execution_count": 6,
     "metadata": {},
     "output_type": "execute_result"
    }
   ],
   "source": [
    "df_female=df_raw[df_raw.gender.isin(['Female'])]\n",
    "df_female.head()"
   ]
  },
  {
   "cell_type": "markdown",
   "id": "c8819490",
   "metadata": {},
   "source": [
    "## Create a new transaction"
   ]
  },
  {
   "cell_type": "code",
   "execution_count": 7,
   "id": "c0c9f498",
   "metadata": {},
   "outputs": [
    {
     "data": {
      "text/plain": [
       "'bb9adef5e53945d187463b272ddf8752'"
      ]
     },
     "execution_count": 7,
     "metadata": {},
     "output_type": "execute_result"
    }
   ],
   "source": [
    "transaction_1 = wr.lakeformation.start_transaction(read_only=False)\n",
    "transaction_1"
   ]
  },
  {
   "cell_type": "markdown",
   "id": "b175a5c8",
   "metadata": {},
   "source": [
    "## Write data to S3 linked to governed table"
   ]
  },
  {
   "cell_type": "code",
   "execution_count": 8,
   "id": "6019489b",
   "metadata": {},
   "outputs": [
    {
     "data": {
      "text/plain": [
       "{'paths': ['s3://governedtable-example/data/f30879104ca94d42a259a3f0f4dfc059.snappy.parquet'],\n",
       " 'partitions_values': {}}"
      ]
     },
     "execution_count": 8,
     "metadata": {},
     "output_type": "execute_result"
    }
   ],
   "source": [
    "# Governed Table Metadata생성 후 lake location에 지정된 S3에 데이터를 저장함.\n",
    "wr.s3.to_parquet(\n",
    "    df=df_female,\n",
    "    path='s3://governedtable-example/data/',\n",
    "    dataset=True,\n",
    "    compression='snappy',\n",
    "    database='governed_demo',\n",
    "    table='governed_demo_table',\n",
    "    parameters={\"num_cols\":str(len(df_female.columns)),\"num_rows\":str(len(df_female.index))},\n",
    "    mode='overwrite',\n",
    "    table_type='GOVERNED',\n",
    "    transaction_id=transaction_1)"
   ]
  },
  {
   "cell_type": "markdown",
   "id": "913087e4",
   "metadata": {},
   "source": [
    "## Commit Lake formation Transaction"
   ]
  },
  {
   "cell_type": "code",
   "execution_count": 9,
   "id": "0c7c3f81",
   "metadata": {},
   "outputs": [
    {
     "data": {
      "text/plain": [
       "'committed'"
      ]
     },
     "execution_count": 9,
     "metadata": {},
     "output_type": "execute_result"
    }
   ],
   "source": [
    "wr.lakeformation.commit_transaction(transaction_1)\n",
    "transaction = wr.lakeformation.describe_transaction(transaction_1)\n",
    "transaction\n"
   ]
  },
  {
   "cell_type": "code",
   "execution_count": 10,
   "id": "1b40848a-915e-45a6-a413-95b5c2289846",
   "metadata": {},
   "outputs": [
    {
     "data": {
      "text/plain": [
       "482"
      ]
     },
     "execution_count": 10,
     "metadata": {},
     "output_type": "execute_result"
    }
   ],
   "source": [
    "df_val = wr.lakeformation.read_sql_query(\n",
    "    sql=f\"SELECT * FROM {'governed_demo_table'};\",\n",
    "    database='governed_demo')\n",
    "df_val.shape[0]"
   ]
  },
  {
   "cell_type": "markdown",
   "id": "ec045a4d",
   "metadata": {
    "tags": []
   },
   "source": [
    "## Insert additional data into governed table(Append)"
   ]
  },
  {
   "cell_type": "code",
   "execution_count": 11,
   "id": "ad89fc85",
   "metadata": {},
   "outputs": [],
   "source": [
    "# 기존 데이터셋에 남성 데이터를 추가하고자 함\n",
    "df_male = df_raw[df_raw.gender.isin(['Female'])==False]"
   ]
  },
  {
   "cell_type": "code",
   "execution_count": 12,
   "id": "0d5bbdc9",
   "metadata": {},
   "outputs": [],
   "source": [
    "#남성 데이터를 추가하는 트랜잭션을 선언함\n",
    "transaction_2 = wr.lakeformation.start_transaction(read_only=False)"
   ]
  },
  {
   "cell_type": "code",
   "execution_count": 13,
   "id": "95975327",
   "metadata": {},
   "outputs": [
    {
     "data": {
      "text/plain": [
       "{'paths': ['s3://governedtable-example/data/212a4b27071441b092385a987fbd754e.snappy.parquet'],\n",
       " 'partitions_values': {}}"
      ]
     },
     "execution_count": 13,
     "metadata": {},
     "output_type": "execute_result"
    }
   ],
   "source": [
    "#governed_demo_table에 정의된 s3 경로에 해당 데이터를 append 함\n",
    "wr.s3.to_parquet(\n",
    "    df=df_male,\n",
    "    path='s3://governedtable-example/data/',\n",
    "    dataset=True,\n",
    "    compression='snappy',\n",
    "    database='governed_demo',\n",
    "    table='governed_demo_table',\n",
    "    parameters={\"num_cols\":str(len(df_male.columns)),\"num_rows\":str(len(df_male.index))},\n",
    "    mode='append',\n",
    "    table_type='GOVERNED',\n",
    "    transaction_id=transaction_2)"
   ]
  },
  {
   "cell_type": "code",
   "execution_count": 14,
   "id": "c9cad0df-77c5-467c-b2c8-3f20cf04c135",
   "metadata": {},
   "outputs": [
    {
     "data": {
      "text/plain": [
       "482"
      ]
     },
     "execution_count": 14,
     "metadata": {},
     "output_type": "execute_result"
    }
   ],
   "source": [
    "# 트랜잭션 commit전에 카운트를 하면 남성 데이터가 추가되지 않음을 알수 있음\n",
    "df_val = wr.lakeformation.read_sql_query(\n",
    "    sql=f\"SELECT * FROM {'governed_demo_table'};\",\n",
    "    database='governed_demo')\n",
    "df_val.shape[0]"
   ]
  },
  {
   "cell_type": "code",
   "execution_count": 15,
   "id": "1a94e61d",
   "metadata": {},
   "outputs": [
    {
     "data": {
      "text/plain": [
       "'committed'"
      ]
     },
     "execution_count": 15,
     "metadata": {},
     "output_type": "execute_result"
    }
   ],
   "source": [
    "# 트랜잭션을 commit함\n",
    "wr.lakeformation.commit_transaction(transaction_2)\n",
    "transaction = wr.lakeformation.describe_transaction(transaction_2)\n",
    "transaction"
   ]
  },
  {
   "cell_type": "code",
   "execution_count": 16,
   "id": "2ff99100-d801-46e5-ba1e-f430091c9005",
   "metadata": {},
   "outputs": [
    {
     "data": {
      "text/plain": [
       "1000"
      ]
     },
     "execution_count": 16,
     "metadata": {},
     "output_type": "execute_result"
    }
   ],
   "source": [
    "## 정상적으로 commit되어 남성데이터까지 카운트가 변경되었음을 확인할 수 있음\n",
    "df_val = wr.lakeformation.read_sql_query(\n",
    "    sql=f\"SELECT * FROM {'governed_demo_table'};\",\n",
    "    database='governed_demo')\n",
    "df_val.shape[0]"
   ]
  },
  {
   "cell_type": "code",
   "execution_count": 17,
   "id": "0660d614-07e2-4a24-8132-0d8b1e47cceb",
   "metadata": {},
   "outputs": [
    {
     "data": {
      "text/html": [
       "<div>\n",
       "<style scoped>\n",
       "    .dataframe tbody tr th:only-of-type {\n",
       "        vertical-align: middle;\n",
       "    }\n",
       "\n",
       "    .dataframe tbody tr th {\n",
       "        vertical-align: top;\n",
       "    }\n",
       "\n",
       "    .dataframe thead th {\n",
       "        text-align: right;\n",
       "    }\n",
       "</style>\n",
       "<table border=\"1\" class=\"dataframe\">\n",
       "  <thead>\n",
       "    <tr style=\"text-align: right;\">\n",
       "      <th></th>\n",
       "      <th>registration_dttm</th>\n",
       "      <th>id</th>\n",
       "      <th>first_name</th>\n",
       "      <th>last_name</th>\n",
       "      <th>email</th>\n",
       "      <th>gender</th>\n",
       "      <th>ip_address</th>\n",
       "      <th>cc</th>\n",
       "      <th>country</th>\n",
       "      <th>birthdate</th>\n",
       "      <th>salary</th>\n",
       "      <th>title</th>\n",
       "      <th>comments</th>\n",
       "    </tr>\n",
       "  </thead>\n",
       "  <tbody>\n",
       "    <tr>\n",
       "      <th>518</th>\n",
       "      <td>2016-02-03 07:55:29</td>\n",
       "      <td>1</td>\n",
       "      <td>Amanda</td>\n",
       "      <td>Jordan</td>\n",
       "      <td>ajordan0@com.com</td>\n",
       "      <td>Female</td>\n",
       "      <td>1.197.201.2</td>\n",
       "      <td>6759521864920116</td>\n",
       "      <td>Indonesia</td>\n",
       "      <td>3/8/1971</td>\n",
       "      <td>49756.53</td>\n",
       "      <td>Internal Auditor</td>\n",
       "      <td>1E+02</td>\n",
       "    </tr>\n",
       "    <tr>\n",
       "      <th>0</th>\n",
       "      <td>2016-02-03 17:04:03</td>\n",
       "      <td>2</td>\n",
       "      <td>Albert</td>\n",
       "      <td>Freeman</td>\n",
       "      <td>afreeman1@is.gd</td>\n",
       "      <td>Male</td>\n",
       "      <td>218.111.175.34</td>\n",
       "      <td></td>\n",
       "      <td>Canada</td>\n",
       "      <td>1/16/1968</td>\n",
       "      <td>150280.17</td>\n",
       "      <td>Accountant IV</td>\n",
       "      <td></td>\n",
       "    </tr>\n",
       "    <tr>\n",
       "      <th>519</th>\n",
       "      <td>2016-02-03 01:09:31</td>\n",
       "      <td>3</td>\n",
       "      <td>Evelyn</td>\n",
       "      <td>Morgan</td>\n",
       "      <td>emorgan2@altervista.org</td>\n",
       "      <td>Female</td>\n",
       "      <td>7.161.136.94</td>\n",
       "      <td>6767119071901597</td>\n",
       "      <td>Russia</td>\n",
       "      <td>2/1/1960</td>\n",
       "      <td>144972.51</td>\n",
       "      <td>Structural Engineer</td>\n",
       "      <td></td>\n",
       "    </tr>\n",
       "    <tr>\n",
       "      <th>520</th>\n",
       "      <td>2016-02-03 00:36:21</td>\n",
       "      <td>4</td>\n",
       "      <td>Denise</td>\n",
       "      <td>Riley</td>\n",
       "      <td>driley3@gmpg.org</td>\n",
       "      <td>Female</td>\n",
       "      <td>140.35.109.83</td>\n",
       "      <td>3576031598965625</td>\n",
       "      <td>China</td>\n",
       "      <td>4/8/1997</td>\n",
       "      <td>90263.05</td>\n",
       "      <td>Senior Cost Accountant</td>\n",
       "      <td></td>\n",
       "    </tr>\n",
       "    <tr>\n",
       "      <th>1</th>\n",
       "      <td>2016-02-03 05:05:31</td>\n",
       "      <td>5</td>\n",
       "      <td>Carlos</td>\n",
       "      <td>Burns</td>\n",
       "      <td>cburns4@miitbeian.gov.cn</td>\n",
       "      <td></td>\n",
       "      <td>169.113.235.40</td>\n",
       "      <td>5602256255204850</td>\n",
       "      <td>South Africa</td>\n",
       "      <td></td>\n",
       "      <td>NaN</td>\n",
       "      <td></td>\n",
       "      <td></td>\n",
       "    </tr>\n",
       "  </tbody>\n",
       "</table>\n",
       "</div>"
      ],
      "text/plain": [
       "      registration_dttm  id first_name last_name                     email  \\\n",
       "518 2016-02-03 07:55:29   1     Amanda    Jordan          ajordan0@com.com   \n",
       "0   2016-02-03 17:04:03   2     Albert   Freeman           afreeman1@is.gd   \n",
       "519 2016-02-03 01:09:31   3     Evelyn    Morgan   emorgan2@altervista.org   \n",
       "520 2016-02-03 00:36:21   4     Denise     Riley          driley3@gmpg.org   \n",
       "1   2016-02-03 05:05:31   5     Carlos     Burns  cburns4@miitbeian.gov.cn   \n",
       "\n",
       "     gender      ip_address                cc       country  birthdate  \\\n",
       "518  Female     1.197.201.2  6759521864920116     Indonesia   3/8/1971   \n",
       "0      Male  218.111.175.34                          Canada  1/16/1968   \n",
       "519  Female    7.161.136.94  6767119071901597        Russia   2/1/1960   \n",
       "520  Female   140.35.109.83  3576031598965625         China   4/8/1997   \n",
       "1            169.113.235.40  5602256255204850  South Africa              \n",
       "\n",
       "        salary                   title comments  \n",
       "518   49756.53        Internal Auditor    1E+02  \n",
       "0    150280.17           Accountant IV           \n",
       "519  144972.51     Structural Engineer           \n",
       "520   90263.05  Senior Cost Accountant           \n",
       "1          NaN                                   "
      ]
     },
     "execution_count": 17,
     "metadata": {},
     "output_type": "execute_result"
    }
   ],
   "source": [
    "df_val.sort_values(by='id').head()"
   ]
  },
  {
   "cell_type": "markdown",
   "id": "85ec4bbc-cbb2-4396-a3e4-d79ea91e6709",
   "metadata": {
    "tags": []
   },
   "source": [
    "## Drop unnecessary customer information column from governed table(ipaddress) "
   ]
  },
  {
   "cell_type": "code",
   "execution_count": 18,
   "id": "ef4bbdb7-61de-4ca0-9d88-7db22a980a51",
   "metadata": {},
   "outputs": [],
   "source": [
    "transaction_3 = wr.lakeformation.start_transaction(read_only=False)"
   ]
  },
  {
   "cell_type": "code",
   "execution_count": 19,
   "id": "a0a0a669-a8d7-4b58-8292-d0f1960d253c",
   "metadata": {},
   "outputs": [],
   "source": [
    "# Metadata상 컬럼 삭제는 wrangler delete_column libary로 진행\n",
    "wr.catalog.delete_column(\n",
    "    database='governed_demo',\n",
    "    table='governed_demo_table',\n",
    "    column_name='ip_address',\n",
    "    transaction_id = transaction_3\n",
    ")"
   ]
  },
  {
   "cell_type": "code",
   "execution_count": 20,
   "id": "e7c5e141-1fca-4c38-b869-2a2794325da9",
   "metadata": {},
   "outputs": [
    {
     "data": {
      "text/plain": [
       "'committed'"
      ]
     },
     "execution_count": 20,
     "metadata": {},
     "output_type": "execute_result"
    }
   ],
   "source": [
    "wr.lakeformation.commit_transaction(transaction_3)\n",
    "transaction = wr.lakeformation.describe_transaction(transaction_3)\n",
    "transaction"
   ]
  },
  {
   "cell_type": "code",
   "execution_count": 21,
   "id": "c56233da-90c1-4c73-a1cd-2958efd848f9",
   "metadata": {},
   "outputs": [
    {
     "data": {
      "text/html": [
       "<div>\n",
       "<style scoped>\n",
       "    .dataframe tbody tr th:only-of-type {\n",
       "        vertical-align: middle;\n",
       "    }\n",
       "\n",
       "    .dataframe tbody tr th {\n",
       "        vertical-align: top;\n",
       "    }\n",
       "\n",
       "    .dataframe thead th {\n",
       "        text-align: right;\n",
       "    }\n",
       "</style>\n",
       "<table border=\"1\" class=\"dataframe\">\n",
       "  <thead>\n",
       "    <tr style=\"text-align: right;\">\n",
       "      <th></th>\n",
       "      <th>registration_dttm</th>\n",
       "      <th>id</th>\n",
       "      <th>first_name</th>\n",
       "      <th>last_name</th>\n",
       "      <th>email</th>\n",
       "      <th>gender</th>\n",
       "      <th>cc</th>\n",
       "      <th>country</th>\n",
       "      <th>birthdate</th>\n",
       "      <th>salary</th>\n",
       "      <th>title</th>\n",
       "      <th>comments</th>\n",
       "    </tr>\n",
       "  </thead>\n",
       "  <tbody>\n",
       "    <tr>\n",
       "      <th>518</th>\n",
       "      <td>2016-02-03 07:55:29</td>\n",
       "      <td>1</td>\n",
       "      <td>Amanda</td>\n",
       "      <td>Jordan</td>\n",
       "      <td>ajordan0@com.com</td>\n",
       "      <td>Female</td>\n",
       "      <td>6759521864920116</td>\n",
       "      <td>Indonesia</td>\n",
       "      <td>3/8/1971</td>\n",
       "      <td>49756.53</td>\n",
       "      <td>Internal Auditor</td>\n",
       "      <td>1E+02</td>\n",
       "    </tr>\n",
       "    <tr>\n",
       "      <th>0</th>\n",
       "      <td>2016-02-03 17:04:03</td>\n",
       "      <td>2</td>\n",
       "      <td>Albert</td>\n",
       "      <td>Freeman</td>\n",
       "      <td>afreeman1@is.gd</td>\n",
       "      <td>Male</td>\n",
       "      <td></td>\n",
       "      <td>Canada</td>\n",
       "      <td>1/16/1968</td>\n",
       "      <td>150280.17</td>\n",
       "      <td>Accountant IV</td>\n",
       "      <td></td>\n",
       "    </tr>\n",
       "    <tr>\n",
       "      <th>519</th>\n",
       "      <td>2016-02-03 01:09:31</td>\n",
       "      <td>3</td>\n",
       "      <td>Evelyn</td>\n",
       "      <td>Morgan</td>\n",
       "      <td>emorgan2@altervista.org</td>\n",
       "      <td>Female</td>\n",
       "      <td>6767119071901597</td>\n",
       "      <td>Russia</td>\n",
       "      <td>2/1/1960</td>\n",
       "      <td>144972.51</td>\n",
       "      <td>Structural Engineer</td>\n",
       "      <td></td>\n",
       "    </tr>\n",
       "    <tr>\n",
       "      <th>520</th>\n",
       "      <td>2016-02-03 00:36:21</td>\n",
       "      <td>4</td>\n",
       "      <td>Denise</td>\n",
       "      <td>Riley</td>\n",
       "      <td>driley3@gmpg.org</td>\n",
       "      <td>Female</td>\n",
       "      <td>3576031598965625</td>\n",
       "      <td>China</td>\n",
       "      <td>4/8/1997</td>\n",
       "      <td>90263.05</td>\n",
       "      <td>Senior Cost Accountant</td>\n",
       "      <td></td>\n",
       "    </tr>\n",
       "    <tr>\n",
       "      <th>1</th>\n",
       "      <td>2016-02-03 05:05:31</td>\n",
       "      <td>5</td>\n",
       "      <td>Carlos</td>\n",
       "      <td>Burns</td>\n",
       "      <td>cburns4@miitbeian.gov.cn</td>\n",
       "      <td></td>\n",
       "      <td>5602256255204850</td>\n",
       "      <td>South Africa</td>\n",
       "      <td></td>\n",
       "      <td>NaN</td>\n",
       "      <td></td>\n",
       "      <td></td>\n",
       "    </tr>\n",
       "  </tbody>\n",
       "</table>\n",
       "</div>"
      ],
      "text/plain": [
       "      registration_dttm  id first_name last_name                     email  \\\n",
       "518 2016-02-03 07:55:29   1     Amanda    Jordan          ajordan0@com.com   \n",
       "0   2016-02-03 17:04:03   2     Albert   Freeman           afreeman1@is.gd   \n",
       "519 2016-02-03 01:09:31   3     Evelyn    Morgan   emorgan2@altervista.org   \n",
       "520 2016-02-03 00:36:21   4     Denise     Riley          driley3@gmpg.org   \n",
       "1   2016-02-03 05:05:31   5     Carlos     Burns  cburns4@miitbeian.gov.cn   \n",
       "\n",
       "     gender                cc       country  birthdate     salary  \\\n",
       "518  Female  6759521864920116     Indonesia   3/8/1971   49756.53   \n",
       "0      Male                          Canada  1/16/1968  150280.17   \n",
       "519  Female  6767119071901597        Russia   2/1/1960  144972.51   \n",
       "520  Female  3576031598965625         China   4/8/1997   90263.05   \n",
       "1            5602256255204850  South Africa                   NaN   \n",
       "\n",
       "                      title comments  \n",
       "518        Internal Auditor    1E+02  \n",
       "0             Accountant IV           \n",
       "519     Structural Engineer           \n",
       "520  Senior Cost Accountant           \n",
       "1                                     "
      ]
     },
     "execution_count": 21,
     "metadata": {},
     "output_type": "execute_result"
    }
   ],
   "source": [
    "df_drop = wr.lakeformation.read_sql_query(\n",
    "    sql=f\"SELECT * FROM {'governed_demo_table'};\",\n",
    "    database='governed_demo')\n",
    "df_drop.sort_values(by='id').head()"
   ]
  },
  {
   "cell_type": "markdown",
   "id": "a47f2726-98de-4a3c-94c7-502fcd78e710",
   "metadata": {},
   "source": [
    "## Add column and Insert data to added column(segment)"
   ]
  },
  {
   "cell_type": "code",
   "execution_count": 22,
   "id": "42f37ce4-7ab5-4572-97d3-fb05fc2fff1e",
   "metadata": {},
   "outputs": [],
   "source": [
    "transaction_4 = wr.lakeformation.start_transaction(read_only=False)"
   ]
  },
  {
   "cell_type": "code",
   "execution_count": 23,
   "id": "2bdafb20-cbe1-47ea-99ab-a06bb25fdaef",
   "metadata": {},
   "outputs": [],
   "source": [
    "# Metadata상 컬럼 추가는 wrangler add_column libary로 진행\n",
    "wr.catalog.add_column(\n",
    "    database='governed_demo',\n",
    "    table='governed_demo_table',\n",
    "    column_name='segment',\n",
    "    column_comment='segment',\n",
    "    column_type='string',\n",
    "    transaction_id=transaction_4\n",
    ")"
   ]
  },
  {
   "cell_type": "code",
   "execution_count": 24,
   "id": "cd968717-9dab-42db-9765-bbcea9d33169",
   "metadata": {},
   "outputs": [
    {
     "data": {
      "text/plain": [
       "'committed'"
      ]
     },
     "execution_count": 24,
     "metadata": {},
     "output_type": "execute_result"
    }
   ],
   "source": [
    "wr.lakeformation.commit_transaction(transaction_4)\n",
    "transaction = wr.lakeformation.describe_transaction(transaction_4)\n",
    "transaction"
   ]
  },
  {
   "cell_type": "code",
   "execution_count": 25,
   "id": "eac72dc3-8342-4b5f-9117-5a0098ea7faa",
   "metadata": {},
   "outputs": [
    {
     "data": {
      "text/html": [
       "<div>\n",
       "<style scoped>\n",
       "    .dataframe tbody tr th:only-of-type {\n",
       "        vertical-align: middle;\n",
       "    }\n",
       "\n",
       "    .dataframe tbody tr th {\n",
       "        vertical-align: top;\n",
       "    }\n",
       "\n",
       "    .dataframe thead th {\n",
       "        text-align: right;\n",
       "    }\n",
       "</style>\n",
       "<table border=\"1\" class=\"dataframe\">\n",
       "  <thead>\n",
       "    <tr style=\"text-align: right;\">\n",
       "      <th></th>\n",
       "      <th>registration_dttm</th>\n",
       "      <th>id</th>\n",
       "      <th>first_name</th>\n",
       "      <th>last_name</th>\n",
       "      <th>email</th>\n",
       "      <th>gender</th>\n",
       "      <th>cc</th>\n",
       "      <th>country</th>\n",
       "      <th>birthdate</th>\n",
       "      <th>salary</th>\n",
       "      <th>title</th>\n",
       "      <th>comments</th>\n",
       "      <th>segment</th>\n",
       "    </tr>\n",
       "  </thead>\n",
       "  <tbody>\n",
       "    <tr>\n",
       "      <th>518</th>\n",
       "      <td>2016-02-03 07:55:29</td>\n",
       "      <td>1</td>\n",
       "      <td>Amanda</td>\n",
       "      <td>Jordan</td>\n",
       "      <td>ajordan0@com.com</td>\n",
       "      <td>Female</td>\n",
       "      <td>6759521864920116</td>\n",
       "      <td>Indonesia</td>\n",
       "      <td>3/8/1971</td>\n",
       "      <td>49756.53</td>\n",
       "      <td>Internal Auditor</td>\n",
       "      <td>1E+02</td>\n",
       "      <td>&lt;NA&gt;</td>\n",
       "    </tr>\n",
       "    <tr>\n",
       "      <th>0</th>\n",
       "      <td>2016-02-03 17:04:03</td>\n",
       "      <td>2</td>\n",
       "      <td>Albert</td>\n",
       "      <td>Freeman</td>\n",
       "      <td>afreeman1@is.gd</td>\n",
       "      <td>Male</td>\n",
       "      <td></td>\n",
       "      <td>Canada</td>\n",
       "      <td>1/16/1968</td>\n",
       "      <td>150280.17</td>\n",
       "      <td>Accountant IV</td>\n",
       "      <td></td>\n",
       "      <td>&lt;NA&gt;</td>\n",
       "    </tr>\n",
       "    <tr>\n",
       "      <th>519</th>\n",
       "      <td>2016-02-03 01:09:31</td>\n",
       "      <td>3</td>\n",
       "      <td>Evelyn</td>\n",
       "      <td>Morgan</td>\n",
       "      <td>emorgan2@altervista.org</td>\n",
       "      <td>Female</td>\n",
       "      <td>6767119071901597</td>\n",
       "      <td>Russia</td>\n",
       "      <td>2/1/1960</td>\n",
       "      <td>144972.51</td>\n",
       "      <td>Structural Engineer</td>\n",
       "      <td></td>\n",
       "      <td>&lt;NA&gt;</td>\n",
       "    </tr>\n",
       "    <tr>\n",
       "      <th>520</th>\n",
       "      <td>2016-02-03 00:36:21</td>\n",
       "      <td>4</td>\n",
       "      <td>Denise</td>\n",
       "      <td>Riley</td>\n",
       "      <td>driley3@gmpg.org</td>\n",
       "      <td>Female</td>\n",
       "      <td>3576031598965625</td>\n",
       "      <td>China</td>\n",
       "      <td>4/8/1997</td>\n",
       "      <td>90263.05</td>\n",
       "      <td>Senior Cost Accountant</td>\n",
       "      <td></td>\n",
       "      <td>&lt;NA&gt;</td>\n",
       "    </tr>\n",
       "    <tr>\n",
       "      <th>1</th>\n",
       "      <td>2016-02-03 05:05:31</td>\n",
       "      <td>5</td>\n",
       "      <td>Carlos</td>\n",
       "      <td>Burns</td>\n",
       "      <td>cburns4@miitbeian.gov.cn</td>\n",
       "      <td></td>\n",
       "      <td>5602256255204850</td>\n",
       "      <td>South Africa</td>\n",
       "      <td></td>\n",
       "      <td>NaN</td>\n",
       "      <td></td>\n",
       "      <td></td>\n",
       "      <td>&lt;NA&gt;</td>\n",
       "    </tr>\n",
       "  </tbody>\n",
       "</table>\n",
       "</div>"
      ],
      "text/plain": [
       "      registration_dttm  id first_name last_name                     email  \\\n",
       "518 2016-02-03 07:55:29   1     Amanda    Jordan          ajordan0@com.com   \n",
       "0   2016-02-03 17:04:03   2     Albert   Freeman           afreeman1@is.gd   \n",
       "519 2016-02-03 01:09:31   3     Evelyn    Morgan   emorgan2@altervista.org   \n",
       "520 2016-02-03 00:36:21   4     Denise     Riley          driley3@gmpg.org   \n",
       "1   2016-02-03 05:05:31   5     Carlos     Burns  cburns4@miitbeian.gov.cn   \n",
       "\n",
       "     gender                cc       country  birthdate     salary  \\\n",
       "518  Female  6759521864920116     Indonesia   3/8/1971   49756.53   \n",
       "0      Male                          Canada  1/16/1968  150280.17   \n",
       "519  Female  6767119071901597        Russia   2/1/1960  144972.51   \n",
       "520  Female  3576031598965625         China   4/8/1997   90263.05   \n",
       "1            5602256255204850  South Africa                   NaN   \n",
       "\n",
       "                      title comments segment  \n",
       "518        Internal Auditor    1E+02    <NA>  \n",
       "0             Accountant IV             <NA>  \n",
       "519     Structural Engineer             <NA>  \n",
       "520  Senior Cost Accountant             <NA>  \n",
       "1                                       <NA>  "
      ]
     },
     "execution_count": 25,
     "metadata": {},
     "output_type": "execute_result"
    }
   ],
   "source": [
    "df_add = wr.lakeformation.read_sql_query(\n",
    "    sql=f\"SELECT * FROM {'governed_demo_table'};\",\n",
    "    database='governed_demo')\n",
    "df_add.sort_values(by='id').head()"
   ]
  },
  {
   "cell_type": "code",
   "execution_count": 26,
   "id": "adaa6981-94fd-485d-a725-272c1c1b67d8",
   "metadata": {},
   "outputs": [],
   "source": [
    "df_add.loc[df_add.salary > 100000,'segment'] = 'Gold_Class'\n",
    "df_add.loc[df_add.salary <= 100000,'segment'] = 'Silver_Class'"
   ]
  },
  {
   "cell_type": "code",
   "execution_count": 27,
   "id": "5741831d-97ea-4ff9-b175-f7976134541e",
   "metadata": {},
   "outputs": [],
   "source": [
    "df_add = df_add.sort_values(by='id')"
   ]
  },
  {
   "cell_type": "code",
   "execution_count": 28,
   "id": "a35b3cc2-be9e-4bb8-81ca-0c09794d6bd6",
   "metadata": {},
   "outputs": [],
   "source": [
    "transaction_5 = wr.lakeformation.start_transaction(read_only=False)"
   ]
  },
  {
   "cell_type": "code",
   "execution_count": 29,
   "id": "fe4d31e9-7feb-41d6-a555-4d2d24147501",
   "metadata": {},
   "outputs": [
    {
     "data": {
      "text/plain": [
       "{'paths': ['s3://governedtable-example/data/e315fa30679848398556988e1ec711a9.snappy.parquet'],\n",
       " 'partitions_values': {}}"
      ]
     },
     "execution_count": 29,
     "metadata": {},
     "output_type": "execute_result"
    }
   ],
   "source": [
    "# 컬럼 삭제 및 추가가 metadata상 완료 된 후, datalake location지정된 S3에 데이터 반영함.\n",
    "wr.s3.to_parquet(\n",
    "    df=df_add,\n",
    "    path='s3://governedtable-example/data/',\n",
    "    dataset=True,\n",
    "    compression='snappy',\n",
    "    database='governed_demo',\n",
    "    table='governed_demo_table',\n",
    "    parameters={\"num_cols\":str(len(df_add.columns)),\"num_rows\":str(len(df_add.index))},\n",
    "    mode='overwrite',\n",
    "    table_type='GOVERNED',\n",
    "    transaction_id=transaction_5)"
   ]
  },
  {
   "cell_type": "code",
   "execution_count": 30,
   "id": "df242c09-a18a-4f38-8952-14dc9c2d0eb2",
   "metadata": {},
   "outputs": [
    {
     "data": {
      "text/plain": [
       "'committed'"
      ]
     },
     "execution_count": 30,
     "metadata": {},
     "output_type": "execute_result"
    }
   ],
   "source": [
    "wr.lakeformation.commit_transaction(transaction_5)\n",
    "transaction = wr.lakeformation.describe_transaction(transaction_5)\n",
    "transaction"
   ]
  },
  {
   "cell_type": "code",
   "execution_count": 31,
   "id": "e04b9291-3c1d-4cca-833e-fe1b70059550",
   "metadata": {},
   "outputs": [
    {
     "data": {
      "text/html": [
       "<div>\n",
       "<style scoped>\n",
       "    .dataframe tbody tr th:only-of-type {\n",
       "        vertical-align: middle;\n",
       "    }\n",
       "\n",
       "    .dataframe tbody tr th {\n",
       "        vertical-align: top;\n",
       "    }\n",
       "\n",
       "    .dataframe thead th {\n",
       "        text-align: right;\n",
       "    }\n",
       "</style>\n",
       "<table border=\"1\" class=\"dataframe\">\n",
       "  <thead>\n",
       "    <tr style=\"text-align: right;\">\n",
       "      <th></th>\n",
       "      <th>registration_dttm</th>\n",
       "      <th>id</th>\n",
       "      <th>first_name</th>\n",
       "      <th>last_name</th>\n",
       "      <th>email</th>\n",
       "      <th>gender</th>\n",
       "      <th>cc</th>\n",
       "      <th>country</th>\n",
       "      <th>birthdate</th>\n",
       "      <th>salary</th>\n",
       "      <th>title</th>\n",
       "      <th>comments</th>\n",
       "      <th>segment</th>\n",
       "    </tr>\n",
       "  </thead>\n",
       "  <tbody>\n",
       "    <tr>\n",
       "      <th>0</th>\n",
       "      <td>2016-02-03 07:55:29</td>\n",
       "      <td>1</td>\n",
       "      <td>Amanda</td>\n",
       "      <td>Jordan</td>\n",
       "      <td>ajordan0@com.com</td>\n",
       "      <td>Female</td>\n",
       "      <td>6759521864920116</td>\n",
       "      <td>Indonesia</td>\n",
       "      <td>3/8/1971</td>\n",
       "      <td>49756.53</td>\n",
       "      <td>Internal Auditor</td>\n",
       "      <td>1E+02</td>\n",
       "      <td>Silver_Class</td>\n",
       "    </tr>\n",
       "    <tr>\n",
       "      <th>1</th>\n",
       "      <td>2016-02-03 17:04:03</td>\n",
       "      <td>2</td>\n",
       "      <td>Albert</td>\n",
       "      <td>Freeman</td>\n",
       "      <td>afreeman1@is.gd</td>\n",
       "      <td>Male</td>\n",
       "      <td></td>\n",
       "      <td>Canada</td>\n",
       "      <td>1/16/1968</td>\n",
       "      <td>150280.17</td>\n",
       "      <td>Accountant IV</td>\n",
       "      <td></td>\n",
       "      <td>Gold_Class</td>\n",
       "    </tr>\n",
       "    <tr>\n",
       "      <th>2</th>\n",
       "      <td>2016-02-03 01:09:31</td>\n",
       "      <td>3</td>\n",
       "      <td>Evelyn</td>\n",
       "      <td>Morgan</td>\n",
       "      <td>emorgan2@altervista.org</td>\n",
       "      <td>Female</td>\n",
       "      <td>6767119071901597</td>\n",
       "      <td>Russia</td>\n",
       "      <td>2/1/1960</td>\n",
       "      <td>144972.51</td>\n",
       "      <td>Structural Engineer</td>\n",
       "      <td></td>\n",
       "      <td>Gold_Class</td>\n",
       "    </tr>\n",
       "    <tr>\n",
       "      <th>3</th>\n",
       "      <td>2016-02-03 00:36:21</td>\n",
       "      <td>4</td>\n",
       "      <td>Denise</td>\n",
       "      <td>Riley</td>\n",
       "      <td>driley3@gmpg.org</td>\n",
       "      <td>Female</td>\n",
       "      <td>3576031598965625</td>\n",
       "      <td>China</td>\n",
       "      <td>4/8/1997</td>\n",
       "      <td>90263.05</td>\n",
       "      <td>Senior Cost Accountant</td>\n",
       "      <td></td>\n",
       "      <td>Silver_Class</td>\n",
       "    </tr>\n",
       "    <tr>\n",
       "      <th>4</th>\n",
       "      <td>2016-02-03 05:05:31</td>\n",
       "      <td>5</td>\n",
       "      <td>Carlos</td>\n",
       "      <td>Burns</td>\n",
       "      <td>cburns4@miitbeian.gov.cn</td>\n",
       "      <td></td>\n",
       "      <td>5602256255204850</td>\n",
       "      <td>South Africa</td>\n",
       "      <td></td>\n",
       "      <td>NaN</td>\n",
       "      <td></td>\n",
       "      <td></td>\n",
       "      <td>&lt;NA&gt;</td>\n",
       "    </tr>\n",
       "  </tbody>\n",
       "</table>\n",
       "</div>"
      ],
      "text/plain": [
       "    registration_dttm  id first_name last_name                     email  \\\n",
       "0 2016-02-03 07:55:29   1     Amanda    Jordan          ajordan0@com.com   \n",
       "1 2016-02-03 17:04:03   2     Albert   Freeman           afreeman1@is.gd   \n",
       "2 2016-02-03 01:09:31   3     Evelyn    Morgan   emorgan2@altervista.org   \n",
       "3 2016-02-03 00:36:21   4     Denise     Riley          driley3@gmpg.org   \n",
       "4 2016-02-03 05:05:31   5     Carlos     Burns  cburns4@miitbeian.gov.cn   \n",
       "\n",
       "   gender                cc       country  birthdate     salary  \\\n",
       "0  Female  6759521864920116     Indonesia   3/8/1971   49756.53   \n",
       "1    Male                          Canada  1/16/1968  150280.17   \n",
       "2  Female  6767119071901597        Russia   2/1/1960  144972.51   \n",
       "3  Female  3576031598965625         China   4/8/1997   90263.05   \n",
       "4          5602256255204850  South Africa                   NaN   \n",
       "\n",
       "                    title comments       segment  \n",
       "0        Internal Auditor    1E+02  Silver_Class  \n",
       "1           Accountant IV             Gold_Class  \n",
       "2     Structural Engineer             Gold_Class  \n",
       "3  Senior Cost Accountant           Silver_Class  \n",
       "4                                           <NA>  "
      ]
     },
     "execution_count": 31,
     "metadata": {},
     "output_type": "execute_result"
    }
   ],
   "source": [
    "df_add = wr.lakeformation.read_sql_query(\n",
    "    sql=f\"SELECT * FROM {'governed_demo_table'};\",\n",
    "    database='governed_demo')\n",
    "df_add.head()"
   ]
  },
  {
   "cell_type": "markdown",
   "id": "03b5853b-32f1-4f31-a407-97a8b6b729f2",
   "metadata": {},
   "source": [
    "## Delete inactive customer from governed table"
   ]
  },
  {
   "cell_type": "code",
   "execution_count": 32,
   "id": "837f42ed-7869-413d-9b89-3533299a2843",
   "metadata": {},
   "outputs": [],
   "source": [
    "#test purpose, generate sample customer ID to test deletion function\n",
    "#there is no direct deletion function. so, deletion will take place with overwrite mode.\n",
    "from pandas import Series, DataFrame\n",
    "df_inactive = {'id':[2,3,8,9,13]}\n",
    "inactive_customer = DataFrame(df_inactive)"
   ]
  },
  {
   "cell_type": "code",
   "execution_count": 33,
   "id": "2f264c37-072f-4d56-aabe-954a2fc20af3",
   "metadata": {},
   "outputs": [
    {
     "data": {
      "text/html": [
       "<div>\n",
       "<style scoped>\n",
       "    .dataframe tbody tr th:only-of-type {\n",
       "        vertical-align: middle;\n",
       "    }\n",
       "\n",
       "    .dataframe tbody tr th {\n",
       "        vertical-align: top;\n",
       "    }\n",
       "\n",
       "    .dataframe thead th {\n",
       "        text-align: right;\n",
       "    }\n",
       "</style>\n",
       "<table border=\"1\" class=\"dataframe\">\n",
       "  <thead>\n",
       "    <tr style=\"text-align: right;\">\n",
       "      <th></th>\n",
       "      <th>registration_dttm</th>\n",
       "      <th>id</th>\n",
       "      <th>first_name</th>\n",
       "      <th>last_name</th>\n",
       "      <th>email</th>\n",
       "      <th>gender</th>\n",
       "      <th>cc</th>\n",
       "      <th>country</th>\n",
       "      <th>birthdate</th>\n",
       "      <th>salary</th>\n",
       "      <th>title</th>\n",
       "      <th>comments</th>\n",
       "      <th>segment</th>\n",
       "    </tr>\n",
       "  </thead>\n",
       "  <tbody>\n",
       "    <tr>\n",
       "      <th>0</th>\n",
       "      <td>2016-02-03 07:55:29</td>\n",
       "      <td>1</td>\n",
       "      <td>Amanda</td>\n",
       "      <td>Jordan</td>\n",
       "      <td>ajordan0@com.com</td>\n",
       "      <td>Female</td>\n",
       "      <td>6759521864920116</td>\n",
       "      <td>Indonesia</td>\n",
       "      <td>3/8/1971</td>\n",
       "      <td>49756.53</td>\n",
       "      <td>Internal Auditor</td>\n",
       "      <td>1E+02</td>\n",
       "      <td>Silver_Class</td>\n",
       "    </tr>\n",
       "    <tr>\n",
       "      <th>1</th>\n",
       "      <td>2016-02-03 17:04:03</td>\n",
       "      <td>2</td>\n",
       "      <td>Albert</td>\n",
       "      <td>Freeman</td>\n",
       "      <td>afreeman1@is.gd</td>\n",
       "      <td>Male</td>\n",
       "      <td></td>\n",
       "      <td>Canada</td>\n",
       "      <td>1/16/1968</td>\n",
       "      <td>150280.17</td>\n",
       "      <td>Accountant IV</td>\n",
       "      <td></td>\n",
       "      <td>Gold_Class</td>\n",
       "    </tr>\n",
       "    <tr>\n",
       "      <th>2</th>\n",
       "      <td>2016-02-03 01:09:31</td>\n",
       "      <td>3</td>\n",
       "      <td>Evelyn</td>\n",
       "      <td>Morgan</td>\n",
       "      <td>emorgan2@altervista.org</td>\n",
       "      <td>Female</td>\n",
       "      <td>6767119071901597</td>\n",
       "      <td>Russia</td>\n",
       "      <td>2/1/1960</td>\n",
       "      <td>144972.51</td>\n",
       "      <td>Structural Engineer</td>\n",
       "      <td></td>\n",
       "      <td>Gold_Class</td>\n",
       "    </tr>\n",
       "    <tr>\n",
       "      <th>3</th>\n",
       "      <td>2016-02-03 00:36:21</td>\n",
       "      <td>4</td>\n",
       "      <td>Denise</td>\n",
       "      <td>Riley</td>\n",
       "      <td>driley3@gmpg.org</td>\n",
       "      <td>Female</td>\n",
       "      <td>3576031598965625</td>\n",
       "      <td>China</td>\n",
       "      <td>4/8/1997</td>\n",
       "      <td>90263.05</td>\n",
       "      <td>Senior Cost Accountant</td>\n",
       "      <td></td>\n",
       "      <td>Silver_Class</td>\n",
       "    </tr>\n",
       "    <tr>\n",
       "      <th>4</th>\n",
       "      <td>2016-02-03 05:05:31</td>\n",
       "      <td>5</td>\n",
       "      <td>Carlos</td>\n",
       "      <td>Burns</td>\n",
       "      <td>cburns4@miitbeian.gov.cn</td>\n",
       "      <td></td>\n",
       "      <td>5602256255204850</td>\n",
       "      <td>South Africa</td>\n",
       "      <td></td>\n",
       "      <td>NaN</td>\n",
       "      <td></td>\n",
       "      <td></td>\n",
       "      <td>&lt;NA&gt;</td>\n",
       "    </tr>\n",
       "  </tbody>\n",
       "</table>\n",
       "</div>"
      ],
      "text/plain": [
       "    registration_dttm  id first_name last_name                     email  \\\n",
       "0 2016-02-03 07:55:29   1     Amanda    Jordan          ajordan0@com.com   \n",
       "1 2016-02-03 17:04:03   2     Albert   Freeman           afreeman1@is.gd   \n",
       "2 2016-02-03 01:09:31   3     Evelyn    Morgan   emorgan2@altervista.org   \n",
       "3 2016-02-03 00:36:21   4     Denise     Riley          driley3@gmpg.org   \n",
       "4 2016-02-03 05:05:31   5     Carlos     Burns  cburns4@miitbeian.gov.cn   \n",
       "\n",
       "   gender                cc       country  birthdate     salary  \\\n",
       "0  Female  6759521864920116     Indonesia   3/8/1971   49756.53   \n",
       "1    Male                          Canada  1/16/1968  150280.17   \n",
       "2  Female  6767119071901597        Russia   2/1/1960  144972.51   \n",
       "3  Female  3576031598965625         China   4/8/1997   90263.05   \n",
       "4          5602256255204850  South Africa                   NaN   \n",
       "\n",
       "                    title comments       segment  \n",
       "0        Internal Auditor    1E+02  Silver_Class  \n",
       "1           Accountant IV             Gold_Class  \n",
       "2     Structural Engineer             Gold_Class  \n",
       "3  Senior Cost Accountant           Silver_Class  \n",
       "4                                           <NA>  "
      ]
     },
     "execution_count": 33,
     "metadata": {},
     "output_type": "execute_result"
    }
   ],
   "source": [
    "df_del = wr.lakeformation.read_sql_query(\n",
    "    sql=f\"SELECT * FROM {'governed_demo_table'};\",\n",
    "    database='governed_demo')\n",
    "df_del.head()"
   ]
  },
  {
   "cell_type": "code",
   "execution_count": 34,
   "id": "d79f77a8-caf2-4a11-8e99-0a3ebf94dfa0",
   "metadata": {},
   "outputs": [],
   "source": [
    "#active 고객만 선택함.\n",
    "df_del = df_del[df_del.id.isin(inactive_customer.id)==False]"
   ]
  },
  {
   "cell_type": "code",
   "execution_count": 35,
   "id": "8048a649-a44c-437e-b5e4-bd739a20b27a",
   "metadata": {},
   "outputs": [],
   "source": [
    "transaction_6 = wr.lakeformation.start_transaction(read_only=False)"
   ]
  },
  {
   "cell_type": "code",
   "execution_count": 36,
   "id": "8e8771cc-82dc-49d8-9460-d9980c97b400",
   "metadata": {},
   "outputs": [],
   "source": [
    "#과거 transaction file에도 inactive고객이 있기에, 필요에 따라 삭제를 진행함.\n",
    "#wr.s3.delete_objects('s3://governedtable-example/data/')"
   ]
  },
  {
   "cell_type": "code",
   "execution_count": 37,
   "id": "2b0af7fe-1ed8-4d2a-8048-9747f2cfddf1",
   "metadata": {},
   "outputs": [
    {
     "data": {
      "text/plain": [
       "{'paths': ['s3://governedtable-example/data/4356f1f957534c2d802b1a4f7a5edae2.snappy.parquet'],\n",
       " 'partitions_values': {}}"
      ]
     },
     "execution_count": 37,
     "metadata": {},
     "output_type": "execute_result"
    }
   ],
   "source": [
    "#선택된 active고객으로 전체 파일을 overwrite진행함.\n",
    "wr.s3.to_parquet(\n",
    "    df=df_del,\n",
    "    path='s3://governedtable-example/data/',\n",
    "    dataset=True,\n",
    "    compression='snappy',\n",
    "    database='governed_demo',\n",
    "    table='governed_demo_table',\n",
    "    parameters={\"num_cols\":str(len(df_del.columns)),\"num_rows\":str(len(df_del.index))},\n",
    "    mode='overwrite',\n",
    "    table_type='GOVERNED',\n",
    "    transaction_id=transaction_6)"
   ]
  },
  {
   "cell_type": "code",
   "execution_count": 38,
   "id": "76bdb26c-4e0d-4d43-8b49-c80683469c3a",
   "metadata": {},
   "outputs": [
    {
     "data": {
      "text/plain": [
       "'committed'"
      ]
     },
     "execution_count": 38,
     "metadata": {},
     "output_type": "execute_result"
    }
   ],
   "source": [
    "wr.lakeformation.commit_transaction(transaction_6)\n",
    "transaction = wr.lakeformation.describe_transaction(transaction_6)\n",
    "transaction"
   ]
  },
  {
   "cell_type": "code",
   "execution_count": 39,
   "id": "e6a1f97e-173d-4420-a817-315645664770",
   "metadata": {},
   "outputs": [
    {
     "data": {
      "text/html": [
       "<div>\n",
       "<style scoped>\n",
       "    .dataframe tbody tr th:only-of-type {\n",
       "        vertical-align: middle;\n",
       "    }\n",
       "\n",
       "    .dataframe tbody tr th {\n",
       "        vertical-align: top;\n",
       "    }\n",
       "\n",
       "    .dataframe thead th {\n",
       "        text-align: right;\n",
       "    }\n",
       "</style>\n",
       "<table border=\"1\" class=\"dataframe\">\n",
       "  <thead>\n",
       "    <tr style=\"text-align: right;\">\n",
       "      <th></th>\n",
       "      <th>registration_dttm</th>\n",
       "      <th>id</th>\n",
       "      <th>first_name</th>\n",
       "      <th>last_name</th>\n",
       "      <th>email</th>\n",
       "      <th>gender</th>\n",
       "      <th>cc</th>\n",
       "      <th>country</th>\n",
       "      <th>birthdate</th>\n",
       "      <th>salary</th>\n",
       "      <th>title</th>\n",
       "      <th>comments</th>\n",
       "      <th>segment</th>\n",
       "    </tr>\n",
       "  </thead>\n",
       "  <tbody>\n",
       "    <tr>\n",
       "      <th>0</th>\n",
       "      <td>2016-02-03 07:55:29</td>\n",
       "      <td>1</td>\n",
       "      <td>Amanda</td>\n",
       "      <td>Jordan</td>\n",
       "      <td>ajordan0@com.com</td>\n",
       "      <td>Female</td>\n",
       "      <td>6759521864920116</td>\n",
       "      <td>Indonesia</td>\n",
       "      <td>3/8/1971</td>\n",
       "      <td>49756.53</td>\n",
       "      <td>Internal Auditor</td>\n",
       "      <td>1E+02</td>\n",
       "      <td>Silver_Class</td>\n",
       "    </tr>\n",
       "    <tr>\n",
       "      <th>1</th>\n",
       "      <td>2016-02-03 00:36:21</td>\n",
       "      <td>4</td>\n",
       "      <td>Denise</td>\n",
       "      <td>Riley</td>\n",
       "      <td>driley3@gmpg.org</td>\n",
       "      <td>Female</td>\n",
       "      <td>3576031598965625</td>\n",
       "      <td>China</td>\n",
       "      <td>4/8/1997</td>\n",
       "      <td>90263.05</td>\n",
       "      <td>Senior Cost Accountant</td>\n",
       "      <td></td>\n",
       "      <td>Silver_Class</td>\n",
       "    </tr>\n",
       "    <tr>\n",
       "      <th>2</th>\n",
       "      <td>2016-02-03 05:05:31</td>\n",
       "      <td>5</td>\n",
       "      <td>Carlos</td>\n",
       "      <td>Burns</td>\n",
       "      <td>cburns4@miitbeian.gov.cn</td>\n",
       "      <td></td>\n",
       "      <td>5602256255204850</td>\n",
       "      <td>South Africa</td>\n",
       "      <td></td>\n",
       "      <td>NaN</td>\n",
       "      <td></td>\n",
       "      <td></td>\n",
       "      <td>&lt;NA&gt;</td>\n",
       "    </tr>\n",
       "    <tr>\n",
       "      <th>3</th>\n",
       "      <td>2016-02-03 07:22:34</td>\n",
       "      <td>6</td>\n",
       "      <td>Kathryn</td>\n",
       "      <td>White</td>\n",
       "      <td>kwhite5@google.com</td>\n",
       "      <td>Female</td>\n",
       "      <td>3583136326049310</td>\n",
       "      <td>Indonesia</td>\n",
       "      <td>2/25/1983</td>\n",
       "      <td>69227.11</td>\n",
       "      <td>Account Executive</td>\n",
       "      <td></td>\n",
       "      <td>Silver_Class</td>\n",
       "    </tr>\n",
       "    <tr>\n",
       "      <th>4</th>\n",
       "      <td>2016-02-03 08:33:08</td>\n",
       "      <td>7</td>\n",
       "      <td>Samuel</td>\n",
       "      <td>Holmes</td>\n",
       "      <td>sholmes6@foxnews.com</td>\n",
       "      <td>Male</td>\n",
       "      <td>3582641366974690</td>\n",
       "      <td>Portugal</td>\n",
       "      <td>12/18/1987</td>\n",
       "      <td>14247.62</td>\n",
       "      <td>Senior Financial Analyst</td>\n",
       "      <td></td>\n",
       "      <td>Silver_Class</td>\n",
       "    </tr>\n",
       "  </tbody>\n",
       "</table>\n",
       "</div>"
      ],
      "text/plain": [
       "    registration_dttm  id first_name last_name                     email  \\\n",
       "0 2016-02-03 07:55:29   1     Amanda    Jordan          ajordan0@com.com   \n",
       "1 2016-02-03 00:36:21   4     Denise     Riley          driley3@gmpg.org   \n",
       "2 2016-02-03 05:05:31   5     Carlos     Burns  cburns4@miitbeian.gov.cn   \n",
       "3 2016-02-03 07:22:34   6    Kathryn     White        kwhite5@google.com   \n",
       "4 2016-02-03 08:33:08   7     Samuel    Holmes      sholmes6@foxnews.com   \n",
       "\n",
       "   gender                cc       country   birthdate    salary  \\\n",
       "0  Female  6759521864920116     Indonesia    3/8/1971  49756.53   \n",
       "1  Female  3576031598965625         China    4/8/1997  90263.05   \n",
       "2          5602256255204850  South Africa                   NaN   \n",
       "3  Female  3583136326049310     Indonesia   2/25/1983  69227.11   \n",
       "4    Male  3582641366974690      Portugal  12/18/1987  14247.62   \n",
       "\n",
       "                      title comments       segment  \n",
       "0          Internal Auditor    1E+02  Silver_Class  \n",
       "1    Senior Cost Accountant           Silver_Class  \n",
       "2                                             <NA>  \n",
       "3         Account Executive           Silver_Class  \n",
       "4  Senior Financial Analyst           Silver_Class  "
      ]
     },
     "execution_count": 39,
     "metadata": {},
     "output_type": "execute_result"
    }
   ],
   "source": [
    "df_del = wr.lakeformation.read_sql_query(\n",
    "    sql=f\"SELECT * FROM {'governed_demo_table'};\",\n",
    "    database='governed_demo')\n",
    "df_del.head()"
   ]
  },
  {
   "cell_type": "code",
   "execution_count": null,
   "id": "4c92b735-4641-42d6-ae7b-3e23bbc80602",
   "metadata": {},
   "outputs": [],
   "source": []
  },
  {
   "cell_type": "code",
   "execution_count": null,
   "id": "c69beff1-663e-4df4-8d7e-9dfbf4117e71",
   "metadata": {},
   "outputs": [],
   "source": []
  }
 ],
 "metadata": {
  "kernelspec": {
   "display_name": "Python 3",
   "language": "python",
   "name": "python3"
  },
  "language_info": {
   "codemirror_mode": {
    "name": "ipython",
    "version": 3
   },
   "file_extension": ".py",
   "mimetype": "text/x-python",
   "name": "python",
   "nbconvert_exporter": "python",
   "pygments_lexer": "ipython3",
   "version": "3.9.7"
  }
 },
 "nbformat": 4,
 "nbformat_minor": 5
}
